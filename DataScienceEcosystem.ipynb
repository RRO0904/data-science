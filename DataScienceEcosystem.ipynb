{
 "cells": [
  {
   "cell_type": "code",
   "execution_count": 1,
   "id": "de879f8d-f204-41c1-8f76-5c0cae5e6611",
   "metadata": {},
   "outputs": [],
   "source": [
    "# Ejercicio 2: Crear una celda Markdown con el título del block de notas."
   ]
  },
  {
   "cell_type": "markdown",
   "id": "18d6f574-2f2f-4396-ae17-b2a13116f530",
   "metadata": {},
   "source": [
    "# Data Science Tools and Ecosystem"
   ]
  },
  {
   "cell_type": "code",
   "execution_count": 9,
   "id": "17f358af-1fc0-48e5-952e-2aa1215305b4",
   "metadata": {},
   "outputs": [],
   "source": [
    "# Ejercicio 3: Crear una celda Markdown para una introducción."
   ]
  },
  {
   "cell_type": "markdown",
   "id": "c656660a-d01f-4be4-9f9a-e3f161a1b714",
   "metadata": {},
   "source": [
    "In this notebook, Data Science Tools and Ecosystem are summarized"
   ]
  },
  {
   "cell_type": "code",
   "execution_count": 12,
   "id": "e73bca60-655b-4933-8588-689243df60a4",
   "metadata": {},
   "outputs": [],
   "source": [
    "#Ejercicio 4: Crear una celda Markdown para enumerar lenguajes de ciencia de datos."
   ]
  },
  {
   "cell_type": "markdown",
   "id": "ed19597c-7ddf-497c-9f13-fb0d040f4827",
   "metadata": {},
   "source": [
    "Some of the popular languages that Data Science use are:\n",
    "1. Python.\n",
    "2. R.\n",
    "3. Java."
   ]
  },
  {
   "cell_type": "code",
   "execution_count": 15,
   "id": "0b3e6161-1250-432a-8cda-c9f75948c663",
   "metadata": {},
   "outputs": [],
   "source": [
    "# Ejercicio 5: Creación de una celda Markdown para enumerar bibliotecas en ciencia de datos."
   ]
  },
  {
   "cell_type": "markdown",
   "id": "d7392452-2376-40e9-989d-90f08ed60bd7",
   "metadata": {},
   "source": [
    "Some of the commonly used libraries used by Data Sciencits include:\n",
    "1. Pandas.\n",
    "2. Numpy.\n",
    "3. TensorFlow."
   ]
  },
  {
   "cell_type": "code",
   "execution_count": 18,
   "id": "69e6fd3a-17e9-4dc2-a19b-9c9b3e1da95d",
   "metadata": {},
   "outputs": [],
   "source": [
    "# Ejercicio 6: Creación de una celda Markdown con una tabla de herramientas de ciencia de datos."
   ]
  },
  {
   "cell_type": "markdown",
   "id": "bd134db8-e903-483d-bc94-e83ff3d69e94",
   "metadata": {},
   "source": [
    "*Data Science Tools* |\n",
    "---------------------|\n",
    "*Hadoop* |\n",
    "*Ceph* |\n",
    "*KubeFlow*|\n"
   ]
  },
  {
   "cell_type": "code",
   "execution_count": 21,
   "id": "786e3859-6119-453b-97fc-4574ed14527e",
   "metadata": {},
   "outputs": [],
   "source": [
    "# Ejercicio 7: Crear una celda de Markdown introduciendo ejemplos de expresiones aritméticas."
   ]
  },
  {
   "cell_type": "markdown",
   "id": "f0dc5260-6a06-4201-863b-d563eecab1f8",
   "metadata": {},
   "source": [
    "### Below are a few examples of evaluating arithmetic expressions in Python.\n",
    "1. \\$\\sqrt{k}$\n",
    "   \n",
    "3. $f(x)=y$"
   ]
  },
  {
   "cell_type": "code",
   "execution_count": 29,
   "id": "08419501-9708-41e7-97c3-df2e4b1bb611",
   "metadata": {},
   "outputs": [],
   "source": [
    "# Ejercicio 8: Crear una celda de código para multiplicar y sumar números."
   ]
  },
  {
   "cell_type": "code",
   "execution_count": 33,
   "id": "ea8116eb-1fa8-4d99-8e22-06924af33fdf",
   "metadata": {},
   "outputs": [
    {
     "name": "stdout",
     "output_type": "stream",
     "text": [
      "17\n"
     ]
    }
   ],
   "source": [
    "# Esta es una expresión aritmética simple para luego agregar números enteros\n",
    "x = (3*4)+5\n",
    "print (x)"
   ]
  },
  {
   "cell_type": "code",
   "execution_count": 35,
   "id": "ee8cd4b5-0c44-4f54-b478-26efe24c4471",
   "metadata": {},
   "outputs": [],
   "source": [
    "#Ejercicio 9: Crear una celda de código para convertir minutos en horas."
   ]
  },
  {
   "cell_type": "code",
   "execution_count": 41,
   "id": "c3bdaf05-d2f0-4fac-a5a6-2736d4d21c4d",
   "metadata": {},
   "outputs": [
    {
     "name": "stdout",
     "output_type": "stream",
     "text": [
      "3.3333333333333335 horas\n"
     ]
    }
   ],
   "source": [
    "# Esto convertirá 200 minutos en horas buceando en 60.\n",
    "x = 200\n",
    "y = x/60\n",
    "print (y, \"horas\")"
   ]
  },
  {
   "cell_type": "code",
   "execution_count": 43,
   "id": "f8cc73ea-ab7d-4e47-96c0-7aed5c05c631",
   "metadata": {},
   "outputs": [],
   "source": [
    "# Ejercicio 10: Insertar una celda de Markdown para enumerar los objetivos."
   ]
  },
  {
   "cell_type": "markdown",
   "id": "f5e1a7c7-c336-4c49-a69c-948742dbd5a1",
   "metadata": {},
   "source": [
    "In this notebook, Data Science Tools and Ecosystem are summarized"
   ]
  },
  {
   "cell_type": "markdown",
   "id": "9ff8d0ec-2f5b-4e90-a26b-d64b5a147b04",
   "metadata": {},
   "source": [
    "**Los objetivos cubiertos en este cuaderno son**\n",
    "- Creación de un cuaderno Jupyter Notebook.\n",
    "- Insertar código y markdown.\n",
    "- Compartir el bloc de notas a través de GitHub."
   ]
  },
  {
   "cell_type": "code",
   "execution_count": 58,
   "id": "a95924e5-ee62-4a2f-89cd-159df68d74be",
   "metadata": {},
   "outputs": [],
   "source": [
    "# Ejercicio 11: Cree una celda de Markdown para indicar el nombre del autor."
   ]
  },
  {
   "cell_type": "markdown",
   "id": "ee78cbe3-5ba7-45a6-ab34-9c2a63f69b8c",
   "metadata": {},
   "source": [
    "## Name author\n",
    "## Rocío Rodríguez"
   ]
  },
  {
   "cell_type": "code",
   "execution_count": null,
   "id": "252fd0c0-0c3f-4b0c-85ae-c5f19492bc44",
   "metadata": {},
   "outputs": [],
   "source": []
  }
 ],
 "metadata": {
  "kernelspec": {
   "display_name": "Python 3 (ipykernel)",
   "language": "python",
   "name": "python3"
  },
  "language_info": {
   "codemirror_mode": {
    "name": "ipython",
    "version": 3
   },
   "file_extension": ".py",
   "mimetype": "text/x-python",
   "name": "python",
   "nbconvert_exporter": "python",
   "pygments_lexer": "ipython3",
   "version": "3.12.4"
  }
 },
 "nbformat": 4,
 "nbformat_minor": 5
}
